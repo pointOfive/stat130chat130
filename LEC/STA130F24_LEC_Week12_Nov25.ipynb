{
 "cells": [
  {
   "cell_type": "markdown",
   "id": "9e1d847c",
   "metadata": {},
   "source": [
    "# STA130 LEC Week 12 (Nov 25)\n",
    "\n",
    "## Ethics + Metrics = Methrics\n",
    "\n",
    "\n",
    "1. Special Guest Dr. Steven Coyne\n",
    "\n",
    "    1. BA Honours, University of Calgary (Philosophy)\n",
    "    2. BSc,University of Calgary (Mathematics)\n",
    "    3. MA, University of British Columbia (Philosophy)\n",
    "    4. PhD, University of Toronto (Philosophy)\n",
    "\n",
    "\n",
    "2. **Prediction**, **thresholding**, and different **Metrics**\n"
   ]
  },
  {
   "cell_type": "code",
   "execution_count": null,
   "id": "054fbe40",
   "metadata": {},
   "outputs": [],
   "source": [
    "import pandas as pd \n",
    "\n",
    "url = \"https://archive.ics.uci.edu/ml/machine-learning-databases/adult/adult.data\"\n",
    "\n",
    "column_names = [\"age\", \"workclass\", \"fnlwgt\", \"education\", \"education-num\", \n",
    "                \"marital-status\", \"occupation\", \"relationship\", \"race\", \"sex\", \n",
    "                \"capital-gain\", \"capital-loss\", \"hours-per-week\", \"native-country\", \n",
    "                \"income\"]\n",
    "data_raw = pd.read_csv(url, names=column_names, skipinitialspace=True)\n",
    "data_use = data_raw.copy()\n",
    "#data_use = data_use.drop(columns=['workclass', 'marital-status', 'occupation', \n",
    "#                                  'capital-gain', 'capital-loss', 'hours-per-week', \n",
    "#                                  'native-country', 'education-num', 'fnlwgt'])\n",
    "display(data_use.head(), data_use.shape)"
   ]
  },
  {
   "cell_type": "code",
   "execution_count": null,
   "id": "c457c0b1",
   "metadata": {},
   "outputs": [],
   "source": [
    "data_use.income.value_counts()"
   ]
  },
  {
   "cell_type": "code",
   "execution_count": null,
   "id": "f2715d5a",
   "metadata": {},
   "outputs": [],
   "source": [
    "data_use.education.value_counts()"
   ]
  },
  {
   "cell_type": "code",
   "execution_count": null,
   "id": "d4e4a5b9",
   "metadata": {},
   "outputs": [],
   "source": [
    "data_use.loc[data_use.education == 'Preschool', 'education'] = \"<=6th\"\n",
    "data_use.loc[data_use.education == '1st-4th', 'education'] = \"<=6th\"\n",
    "data_use.loc[data_use.education == '5th-6th', 'education'] = \"<=6th\"\n",
    "data_use.education.value_counts()"
   ]
  },
  {
   "cell_type": "code",
   "execution_count": null,
   "id": "7ae5a95b",
   "metadata": {},
   "outputs": [],
   "source": [
    "data_use.workclass.value_counts()"
   ]
  },
  {
   "cell_type": "code",
   "execution_count": null,
   "id": "78d93ea7",
   "metadata": {},
   "outputs": [],
   "source": [
    "data_use.loc[data_use.workclass == 'Without-pay', 'workclass'] = \"?\"\n",
    "data_use.loc[data_use.workclass == 'Never-worked', 'workclass'] = \"?\"\n",
    "data_use.workclass.value_counts()"
   ]
  },
  {
   "cell_type": "code",
   "execution_count": null,
   "id": "ce2d662e",
   "metadata": {},
   "outputs": [],
   "source": [
    "data_use.occupation.value_counts()"
   ]
  },
  {
   "cell_type": "code",
   "execution_count": null,
   "id": "4a9fb755",
   "metadata": {},
   "outputs": [],
   "source": [
    "data_use.loc[data_use.occupation == 'Armed-Forces', 'occupation'] = \"?\"\n",
    "data_use.occupation.value_counts()\n"
   ]
  },
  {
   "cell_type": "code",
   "execution_count": null,
   "id": "d21708f0",
   "metadata": {},
   "outputs": [],
   "source": [
    "#data_use['workclass-occupation'] = data_use.workclass + \" \" + data_use.occupation\n",
    "#data_use['workclass-occupation'].value_counts()\n",
    "#for i,k in zip(data_use['workclassoccupation'].value_counts().index,data_use['workclass-occupation'].value_counts().values):\n",
    "#    print(i, k)"
   ]
  },
  {
   "cell_type": "code",
   "execution_count": null,
   "id": "84c45c53",
   "metadata": {},
   "outputs": [],
   "source": [
    "from sklearn import model_selection\n",
    "import numpy as np\n",
    "\n",
    "np.random.seed(130)\n",
    "train, test = model_selection.train_test_split(data_use, train_size=0.8)"
   ]
  },
  {
   "cell_type": "code",
   "execution_count": null,
   "id": "e3b73661",
   "metadata": {},
   "outputs": [],
   "source": [
    "train[\"sex\"].value_counts()"
   ]
  },
  {
   "cell_type": "code",
   "execution_count": null,
   "id": "0ebb044d",
   "metadata": {},
   "outputs": [],
   "source": [
    "train[\"marital-status\"].value_counts()"
   ]
  },
  {
   "cell_type": "code",
   "execution_count": null,
   "id": "ba8c3fcc",
   "metadata": {},
   "outputs": [],
   "source": [
    "train.relationship.value_counts()"
   ]
  },
  {
   "cell_type": "code",
   "execution_count": null,
   "id": "ca92a8ef",
   "metadata": {},
   "outputs": [],
   "source": [
    "train.race.value_counts()"
   ]
  },
  {
   "cell_type": "code",
   "execution_count": null,
   "id": "5b851e00",
   "metadata": {},
   "outputs": [],
   "source": [
    "import statsmodels.formula.api as smf\n",
    "formula = '''\n",
    "I((income=='>50K').astype(int)) ~ scale(age) * I(scale(age)**2) \n",
    "                                * scale(Q(\"education-num\")) \n",
    "                                * C(race, Treatment(reference='White'))\n",
    "                                * C(sex, Treatment(reference='Male')) \n",
    "                                + C(education, Treatment(reference='HS-grad'))\n",
    "                                + C(Q(\"marital-status\"), Treatment(reference='Married-civ-spouse')) \n",
    "                                + C(relationship, Treatment(reference='Husband'))\n",
    "                                + C(workclass) + C(occupation)\n",
    "'''\n",
    "logreg = smf.logit(formula, data=train)\n",
    "logreg_fit = logreg.fit()\n",
    "logreg_fit.summary()"
   ]
  },
  {
   "cell_type": "code",
   "execution_count": null,
   "id": "a9b7a2c3",
   "metadata": {},
   "outputs": [],
   "source": [
    "from sklearn.metrics import confusion_matrix, ConfusionMatrixDisplay\n",
    "cm_disp = ConfusionMatrixDisplay(\n",
    "    confusion_matrix((test.income=='>50K'), logreg_fit.predict(test)>0.5, \n",
    "    labels=[False, True]), display_labels=['<=50K','>50K'])\n",
    "_ = cm_disp.plot()"
   ]
  },
  {
   "cell_type": "markdown",
   "id": "7eec0d37",
   "metadata": {},
   "source": [
    "#### Accuracy\n",
    "Accuracy measures the proportion of true results (both true positives and true negatives) in the population.\n",
    "$$\\text{Accuracy} = \\frac{TP + TN}{TP + TN + FP + FN}$$\n",
    "\n",
    "#### Specificity (True Negative Rate)\n",
    " Specificity measures the proportion of actual negatives that are correctly identified.\n",
    "$$\\text{Specificity} = \\frac{TN}{TN + FP}$$\n",
    "\n",
    "#### Sensitivity (True Positive Rate)\n",
    "Sensitivity measures the proportion of actual positives that are correctly identified.\n",
    "$$\\text{Sensitivity} = \\frac{TP}{TP + FN}$$\n",
    "\n",
    "#### Precision (Positive Predictive Value)\n",
    "Precision measures the proportion of positive identifications that were actually correct.\n",
    "$$\\text{Precision} = \\frac{TP}{TP + FP}$$\n",
    "\n",
    "> - **Negative Predictive Value** is the \"negative\" version of **precision** $\\frac{TN}{TN + FN}$\n",
    "> - **False negative rates (FNR)** are defined to be the proportion of actually positive cases which are incorrectly identified (as false negatives) $TNR = TN/(TN+FP) = 1-FPR$\n",
    "> - **False positive rates (FPR)** are defined to be the proportion of actually negative cases which are incorrectly identified (as false positives) $TPR = TP/(TP+FN) = 1-FNR$\n",
    " \n"
   ]
  },
  {
   "cell_type": "code",
   "execution_count": null,
   "id": "87942a71",
   "metadata": {},
   "outputs": [],
   "source": [
    "from sklearn.metrics import accuracy_score, recall_score, precision_score\n",
    "# in sklearn specificity is recall_score(y_true, y_pred, pos_label=0)\n",
    "# while sensitivity recall_score(y_true, y_pred, pos_label=1) is the default \n",
    "\n",
    "print(\"In sample (training) sensitivity\", recall_score(train.income=='>50K', logreg_fit.predict(train)>0.5, pos_label=True))\n",
    "print(\"Out of sample (testing) sensitivity\", recall_score(test.income=='>50K', logreg_fit.predict(test)>0.5, pos_label=True))\n",
    "print(\"In sample (training) specificity\", recall_score(train.income=='>50K', logreg_fit.predict(train)>0.5, pos_label=False))\n",
    "print(\"Out of sample (testing) specificity\", recall_score(test.income=='>50K', logreg_fit.predict(test)>0.5, pos_label=False))\n",
    "print(\"In sample (training) precision\", precision_score(train.income=='>50K', logreg_fit.predict(train)>0.5))\n",
    "print(\"Out of sample (testing) precision\", precision_score(test.income=='>50K', logreg_fit.predict(test)>0.5))"
   ]
  },
  {
   "cell_type": "code",
   "execution_count": null,
   "id": "6af1e120",
   "metadata": {},
   "outputs": [],
   "source": [
    "X_train = pd.get_dummies(train.iloc[:,:-1]).astype(float)\n",
    "X_test = X_train[:0].copy()\n",
    "X_test_tmp = pd.get_dummies(test.iloc[:,:-1])\n",
    "for col in X_test_tmp:\n",
    "    X_test[col] = X_test_tmp[col].astype(float)\n",
    "X_test = X_test.fillna(0.0)"
   ]
  },
  {
   "cell_type": "code",
   "execution_count": null,
   "id": "c54b09a7",
   "metadata": {},
   "outputs": [],
   "source": [
    "from sklearn.tree import DecisionTreeClassifier, plot_tree\n",
    "import matplotlib.pyplot as plt\n",
    "\n",
    "clf = DecisionTreeClassifier(max_depth=30, random_state=42, \n",
    "                             min_samples_leaf=30, \n",
    "                             min_samples_split=100)\n",
    "clf.fit(X=X_train, y=(train.iloc[:,-1]=='>50K').astype(int))\n",
    "\n",
    "plt.figure(figsize=(10,5), dpi=200)\n",
    "plot_tree(clf, feature_names=X_train.columns.tolist(), \n",
    "          class_names=['<=50k','>50k'],\n",
    "          filled=True, rounded=True)\n",
    "plt.show()"
   ]
  },
  {
   "cell_type": "code",
   "execution_count": null,
   "id": "f69eb60f",
   "metadata": {},
   "outputs": [],
   "source": [
    "#https://stackoverflow.com/questions/52771328/plotly-chart-not-showing-in-jupyter-notebook\n",
    "import plotly.offline as pyo\n",
    "# Set notebook mode to work in offline\n",
    "pyo.init_notebook_mode()"
   ]
  },
  {
   "cell_type": "code",
   "execution_count": null,
   "id": "828ca244",
   "metadata": {},
   "outputs": [],
   "source": [
    "cm_disp = ConfusionMatrixDisplay(\n",
    "    confusion_matrix((test.income=='>50K'), clf.predict(X_test)==1.0, \n",
    "    labels=[False, True]), display_labels=['<=50K','>50K'])\n",
    "_ = cm_disp.plot()"
   ]
  },
  {
   "cell_type": "code",
   "execution_count": null,
   "id": "3c86d61e",
   "metadata": {},
   "outputs": [],
   "source": [
    "import plotly.express as px\n",
    "\n",
    "feature_importance_df = pd.DataFrame({\n",
    "    'Feature': X_train.columns.tolist(),\n",
    "    'Importance': clf.feature_importances_\n",
    "}).sort_values(by='Importance', ascending=False).reset_index()\n",
    "\n",
    "fig = px.bar(feature_importance_df[:20], y='Feature', x='Importance', \n",
    "             title='Feature Importance')\n",
    "fig.show()"
   ]
  },
  {
   "cell_type": "code",
   "execution_count": null,
   "id": "35453fce",
   "metadata": {},
   "outputs": [],
   "source": [
    "from sklearn.inspection import PartialDependenceDisplay\n",
    "# X_train.columns=='education-num' # 2\n",
    "_ = PartialDependenceDisplay.from_estimator(clf, X_train, (2,))\n"
   ]
  },
  {
   "cell_type": "code",
   "execution_count": null,
   "id": "3d40aa41",
   "metadata": {},
   "outputs": [],
   "source": [
    "from sklearn.ensemble import RandomForestClassifier\n",
    "\n",
    "# Fit 1000 Decision Trees with unlimited depth\n",
    "rfc = RandomForestClassifier(n_estimators=1000, random_state=1,\n",
    "                             min_samples_leaf=10, min_samples_split=30)\n",
    "rfc.fit(X=X_train, y=(train.iloc[:,-1]=='>50K').astype(int))"
   ]
  },
  {
   "cell_type": "code",
   "execution_count": null,
   "id": "81cfe7e1",
   "metadata": {},
   "outputs": [],
   "source": [
    "feature_importance_df = pd.DataFrame({\n",
    "    'Feature': X_train.columns.tolist(),\n",
    "    'Importance': rfc.feature_importances_\n",
    "}).sort_values(by='Importance', ascending=False).reset_index()\n",
    "\n",
    "fig = px.bar(feature_importance_df[:60], y='Feature', x='Importance', \n",
    "             title='Feature Importance',\n",
    "              width=800, height=1200)\n",
    "fig.show()"
   ]
  },
  {
   "cell_type": "code",
   "execution_count": null,
   "id": "6f3eb57f",
   "metadata": {},
   "outputs": [],
   "source": [
    "_ = PartialDependenceDisplay.from_estimator(rfc, X_train, (2,))\n"
   ]
  },
  {
   "cell_type": "code",
   "execution_count": null,
   "id": "966268d2",
   "metadata": {},
   "outputs": [],
   "source": [
    "cm_disp = ConfusionMatrixDisplay(\n",
    "    confusion_matrix((test.income=='>50K'), rfc.predict(X_test)==1.0, \n",
    "    labels=[False, True]), display_labels=['<=50K','>50K'])\n",
    "_ = cm_disp.plot()"
   ]
  },
  {
   "cell_type": "code",
   "execution_count": null,
   "id": "d6778d91",
   "metadata": {},
   "outputs": [],
   "source": [
    "cm_disp = ConfusionMatrixDisplay(\n",
    "    confusion_matrix((test.income=='>50K'), rfc.predict_proba(X_test)[:,1]>0.5, \n",
    "    labels=[False, True]), display_labels=['<=50K','>50K'])\n",
    "_ = cm_disp.plot()"
   ]
  },
  {
   "cell_type": "code",
   "execution_count": null,
   "id": "2f7970dc",
   "metadata": {},
   "outputs": [],
   "source": [
    "cm_disp = ConfusionMatrixDisplay(\n",
    "    confusion_matrix((test.income=='>50K'), rfc.predict_proba(X_test)[:,1]>0.8, \n",
    "    labels=[False, True]), display_labels=['<=50K','>50K'])\n",
    "_ = cm_disp.plot()"
   ]
  },
  {
   "cell_type": "code",
   "execution_count": null,
   "id": "5b74b9ff",
   "metadata": {},
   "outputs": [],
   "source": [
    "cm_disp = ConfusionMatrixDisplay(\n",
    "    confusion_matrix((test.income=='>50K'), rfc.predict_proba(X_test)[:,1]>0.2, \n",
    "    labels=[False, True]), display_labels=['<=50K','>50K'])\n",
    "_ = cm_disp.plot()"
   ]
  },
  {
   "cell_type": "code",
   "execution_count": null,
   "id": "2c8790d3",
   "metadata": {},
   "outputs": [],
   "source": [
    "from sklearn.metrics import roc_curve, roc_auc_score\n",
    "\n",
    "# fpr: 1-specificity\n",
    "# tpr: sensitivity\n",
    "fpr, tpr, thresholds = roc_curve((test.income=='>50K').astype(int), \n",
    "                                 rfc.predict_proba(X_test)[:,1])\n",
    "roc_df = pd.DataFrame({'False Positive Rate': fpr, 'True Positive Rate': tpr,\n",
    "                       'Threshold': thresholds})\n",
    "# Compute AUC score\n",
    "auc_score = roc_auc_score((test.income=='>50K').astype(int), \n",
    "                          rfc.predict_proba(X_test)[:,1])\n",
    "\n",
    "fig = px.area(roc_df, x='False Positive Rate', y='True Positive Rate',\n",
    "              title=f\"ROC Curve (AUC = {auc_score:.2f})\",\n",
    "              labels={'False Positive Rate': 'One minus Specificity', \n",
    "              'True Positive Rate': 'Sensitivity'},\n",
    "              hover_data={'Threshold': ':.3f'})\n",
    "\n",
    "# Add diagonal line (random model)\n",
    "fig.add_shape(type='line', x0=0, y0=0, x1=1, y1=1, \n",
    "              line=dict(dash='dash', color='gray'))\n",
    "\n",
    "fig.update_layout(title_x=0.5)  # Center the title\n",
    "fig.show()"
   ]
  },
  {
   "cell_type": "code",
   "execution_count": null,
   "id": "d72a63e5",
   "metadata": {},
   "outputs": [],
   "source": [
    "logreg_fit.predict(test)\n",
    "(test.income == '>50K').astype(int)"
   ]
  },
  {
   "cell_type": "code",
   "execution_count": null,
   "id": "2845d9ad",
   "metadata": {},
   "outputs": [],
   "source": [
    "fpr_rfc, tpr_rfc, thresholds_rfc = roc_curve((test.income == '>50K').astype(int), \n",
    "                                             rfc.predict_proba(X_test)[:, 1])\n",
    "auc_rfc = roc_auc_score((test.income == '>50K').astype(int), \n",
    "                        rfc.predict_proba(X_test)[:, 1])\n",
    "\n",
    "fpr_clf, tpr_clf, thresholds_clf = roc_curve((test.income == '>50K').astype(int), \n",
    "                                             clf.predict_proba(X_test)[:, 1])\n",
    "auc_clf = roc_auc_score((test.income == '>50K').astype(int), \n",
    "                        clf.predict_proba(X_test)[:, 1])\n",
    "\n",
    "fpr_logreg, tpr_logreg, thresholds_logreg = \\\n",
    "    roc_curve((test.income == '>50K').astype(int), \n",
    "              logreg_fit.predict(test))\n",
    "auc_logreg = roc_auc_score((test.income == '>50K').astype(int), \n",
    "                           logreg_fit.predict(test))\n",
    "\n",
    "# Combine results into a single DataFrame\n",
    "roc_data = pd.DataFrame({\n",
    "    'False Positive Rate': list(fpr_rfc) + list(fpr_clf) + list(fpr_logreg),\n",
    "    'True Positive Rate': list(tpr_rfc) + list(tpr_clf) + list(tpr_logreg),\n",
    "    'Model': ['RFC (AUC='+str(round(auc_rfc,2))+')'] * len(fpr_rfc) + ['CLF (AUC='+str(round(auc_clf,2))+')'] * len(fpr_clf) + ['logreg (AUC='+str(round(auc_logreg,2))+')'] * len(fpr_logreg)})\n",
    "\n",
    "# Plot ROC curves\n",
    "fig = px.line(roc_data, x='False Positive Rate', y='True Positive Rate', color='Model',\n",
    "              title=\"ROC Curve Comparison\",\n",
    "              labels={'False Positive Rate': '1 - Specificity', \n",
    "                      'True Positive Rate': 'Sensitivity'},\n",
    "              hover_data={'Model': True})\n",
    "\n",
    "# Add diagonal line (random model)\n",
    "fig.add_shape(type='line', x0=0, y0=0, x1=1, y1=1, \n",
    "              line=dict(dash='dash', color='gray'))\n",
    "\n",
    "fig.update_layout(title_x=0.5)  # Center the title\n",
    "fig.show()\n"
   ]
  },
  {
   "cell_type": "code",
   "execution_count": null,
   "id": "7ca52887",
   "metadata": {},
   "outputs": [],
   "source": []
  }
 ],
 "metadata": {
  "kernelspec": {
   "display_name": "Python 3 (ipykernel)",
   "language": "python",
   "name": "python3"
  },
  "language_info": {
   "codemirror_mode": {
    "name": "ipython",
    "version": 3
   },
   "file_extension": ".py",
   "mimetype": "text/x-python",
   "name": "python",
   "nbconvert_exporter": "python",
   "pygments_lexer": "ipython3",
   "version": "3.11.4"
  }
 },
 "nbformat": 4,
 "nbformat_minor": 5
}
